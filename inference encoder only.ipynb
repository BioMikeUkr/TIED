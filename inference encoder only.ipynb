{
 "cells": [
  {
   "cell_type": "code",
   "execution_count": 68,
   "id": "5864ea84",
   "metadata": {},
   "outputs": [],
   "source": [
    "from tied import TIEDModel\n",
    "from transformers import AutoTokenizer\n",
    "import torch\n",
    "import matplotlib.pyplot as plt"
   ]
  },
  {
   "cell_type": "code",
   "execution_count": 69,
   "id": "9cf542af",
   "metadata": {},
   "outputs": [],
   "source": [
    "# Load model and tokenizer\n",
    "name = \"models/checkpoint-200\"\n",
    "model = TIEDModel.from_pretrained(name).to(\"cuda\")\n",
    "tokenizer = AutoTokenizer.from_pretrained(name)"
   ]
  },
  {
   "cell_type": "code",
   "execution_count": null,
   "id": "7a465812",
   "metadata": {},
   "outputs": [],
   "source": [
    "def generate_image(model, prompt, device=\"cuda\"):\n",
    "\n",
    "    inputs = tokenizer(prompt, return_tensors=\"pt\").to(device)\n",
    "    input_ids = inputs.input_ids\n",
    "    attention_mask = inputs.attention_mask\n",
    "\n",
    "    generated_latents = model(input_ids=input_ids, attention_mask=attention_mask).decoded_latents\n",
    "    \n",
    "    print(\"Generated Latents Shape:\", generated_latents.shape)\n",
    "\n",
    "    last_latent = generated_latents[:, -1]  # [B, C, H, W]\n",
    "    print(\"Last Latent Shape:\", last_latent.shape)\n",
    "\n",
    "    decoded = model.vae.decode(last_latent).sample  # [B, 3, H, W]\n",
    "    decoded = (decoded / 2 + 0.5).clamp(0, 1)\n",
    "\n",
    "    img_np = decoded.squeeze().permute(1, 2, 0).detach().cpu().numpy()\n",
    "\n",
    "    plt.imshow(img_np)\n",
    "    plt.axis('off')\n",
    "    plt.savefig(\"output_image.png\", bbox_inches='tight', pad_inches=0)\n",
    "    plt.show()\n",
    "\n",
    "    return generated_latents\n"
   ]
  },
  {
   "cell_type": "code",
   "execution_count": 72,
   "id": "033d6ff4",
   "metadata": {},
   "outputs": [
    {
     "name": "stdout",
     "output_type": "stream",
     "text": [
      "Generated Latents Shape: torch.Size([1, 1, 4, 8, 8])\n",
      "Last Latent Shape: torch.Size([1, 4, 8, 8])\n"
     ]
    },
    {
     "data": {
      "image/png": "[encoded data removed]",
      "text/plain": [
       "<Figure size 640x480 with 1 Axes>"
      ]
     },
     "metadata": {},
     "output_type": "display_data"
    }
   ],
   "source": [
    "\n",
    "prompt = \"\"\"The image shows a woman with a white wedding dress\"\"\"\n",
    "\n",
    "generated_latents = generate_image(prompt)"
   ]
  },
  {
   "cell_type": "code",
   "execution_count": 197,
   "id": "ad3db80e",
   "metadata": {},
   "outputs": [
    {
     "data": {
      "text/plain": [
       "torch.Size([1, 1, 4, 8, 8])"
      ]
     },
     "execution_count": 197,
     "metadata": {},
     "output_type": "execute_result"
    }
   ],
   "source": [
    "generated_latents.shape  # [B, T, C, H, W]"
   ]
  },
  {
   "cell_type": "code",
   "execution_count": 57,
   "id": "cf091a30",
   "metadata": {},
   "outputs": [
    {
     "data": {
      "text/plain": [
       "tensor([[[[ 1.4047e+00,  2.8228e-03, -4.3609e+00, -6.6121e+00]]]],\n",
       "       device='cuda:0', grad_fn=<SliceBackward0>)"
      ]
     },
     "execution_count": 57,
     "metadata": {},
     "output_type": "execute_result"
    }
   ],
   "source": [
    "generated_latents[:,0, :1, :1, :4]"
   ]
  },
  {
   "cell_type": "code",
   "execution_count": 198,
   "id": "1ee58ed1",
   "metadata": {},
   "outputs": [
    {
     "ename": "IndexError",
     "evalue": "index 1 is out of bounds for dimension 1 with size 1",
     "output_type": "error",
     "traceback": [
      "\u001b[0;31m---------------------------------------------------------------------------\u001b[0m",
      "\u001b[0;31mIndexError\u001b[0m                                Traceback (most recent call last)",
      "Cell \u001b[0;32mIn[198], line 1\u001b[0m\n\u001b[0;32m----> 1\u001b[0m \u001b[43mgenerated_latents\u001b[49m\u001b[43m[\u001b[49m\u001b[43m:\u001b[49m\u001b[43m,\u001b[49m\u001b[38;5;241;43m1\u001b[39;49m\u001b[43m,\u001b[49m\u001b[43m \u001b[49m\u001b[43m:\u001b[49m\u001b[38;5;241;43m1\u001b[39;49m\u001b[43m,\u001b[49m\u001b[43m \u001b[49m\u001b[43m:\u001b[49m\u001b[38;5;241;43m1\u001b[39;49m\u001b[43m,\u001b[49m\u001b[43m \u001b[49m\u001b[43m:\u001b[49m\u001b[38;5;241;43m4\u001b[39;49m\u001b[43m]\u001b[49m\n",
      "\u001b[0;31mIndexError\u001b[0m: index 1 is out of bounds for dimension 1 with size 1"
     ]
    }
   ],
   "source": [
    "generated_latents[:,1, :1, :1, :4]"
   ]
  },
  {
   "cell_type": "code",
   "execution_count": null,
   "id": "cfefab85",
   "metadata": {},
   "outputs": [],
   "source": []
  }
 ],
 "metadata": {
  "kernelspec": {
   "display_name": ".venv",
   "language": "python",
   "name": "python3"
  },
  "language_info": {
   "codemirror_mode": {
    "name": "ipython",
    "version": 3
   },
   "file_extension": ".py",
   "mimetype": "text/x-python",
   "name": "python",
   "nbconvert_exporter": "python",
   "pygments_lexer": "ipython3",
   "version": "3.10.12"
  }
 },
 "nbformat": 4,
 "nbformat_minor": 5
}
